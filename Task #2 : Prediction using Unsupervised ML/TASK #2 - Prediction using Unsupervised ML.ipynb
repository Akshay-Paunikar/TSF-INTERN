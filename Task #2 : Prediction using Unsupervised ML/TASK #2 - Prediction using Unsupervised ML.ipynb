{
 "cells": [
  {
   "cell_type": "markdown",
   "id": "7e1c7938",
   "metadata": {},
   "source": [
    "## <center>The Sparks Foundation</center>\n",
    "### <center>TASK #2 - Prediction using Unsupervised ML</center>\n",
    "### <center>Domain : Data Science and Business Analytics</center>\n",
    "### <center>Author : Akshay Pandurang Paunikar</center>"
   ]
  },
  {
   "cell_type": "markdown",
   "id": "6dcb5c6a",
   "metadata": {},
   "source": [
    "##### Objective:\n",
    "    From the given iris dataset, predict the optimum number of clusters and represent it visually"
   ]
  },
  {
   "cell_type": "code",
   "execution_count": 64,
   "id": "36a27e47",
   "metadata": {},
   "outputs": [],
   "source": [
    "# import required libraries\n",
    "import numpy as np\n",
    "import pandas as pd\n",
    "import matplotlib.pyplot as plt\n",
    "%matplotlib inline\n",
    "from sklearn.cluster import KMeans\n",
    "from sklearn.neighbors import NearestNeighbors\n",
    "from sklearn.cluster import DBSCAN\n",
    "from sklearn.metrics import silhouette_score\n",
    "import warnings\n",
    "warnings.filterwarnings('ignore')"
   ]
  },
  {
   "cell_type": "code",
   "execution_count": 65,
   "id": "09b6f57e",
   "metadata": {},
   "outputs": [
    {
     "name": "stdout",
     "output_type": "stream",
     "text": [
      "E:\\TSF-INTERN\\TSF-INTERN Tasks\\Task#2\n"
     ]
    }
   ],
   "source": [
    "# set the working directory\n",
    "import io\n",
    "%cd \"E:\\TSF-INTERN\\TSF-INTERN Tasks\\Task#2\""
   ]
  },
  {
   "cell_type": "code",
   "execution_count": 66,
   "id": "e00821c0",
   "metadata": {},
   "outputs": [],
   "source": [
    "# Read Iris.csv file into dataframe\n",
    "iris = pd.read_csv('Iris.csv')"
   ]
  },
  {
   "cell_type": "code",
   "execution_count": 67,
   "id": "cbd3d340",
   "metadata": {},
   "outputs": [
    {
     "data": {
      "text/html": [
       "<div>\n",
       "<style scoped>\n",
       "    .dataframe tbody tr th:only-of-type {\n",
       "        vertical-align: middle;\n",
       "    }\n",
       "\n",
       "    .dataframe tbody tr th {\n",
       "        vertical-align: top;\n",
       "    }\n",
       "\n",
       "    .dataframe thead th {\n",
       "        text-align: right;\n",
       "    }\n",
       "</style>\n",
       "<table border=\"1\" class=\"dataframe\">\n",
       "  <thead>\n",
       "    <tr style=\"text-align: right;\">\n",
       "      <th></th>\n",
       "      <th>Id</th>\n",
       "      <th>SepalLengthCm</th>\n",
       "      <th>SepalWidthCm</th>\n",
       "      <th>PetalLengthCm</th>\n",
       "      <th>PetalWidthCm</th>\n",
       "      <th>Species</th>\n",
       "    </tr>\n",
       "  </thead>\n",
       "  <tbody>\n",
       "    <tr>\n",
       "      <th>0</th>\n",
       "      <td>1</td>\n",
       "      <td>5.1</td>\n",
       "      <td>3.5</td>\n",
       "      <td>1.4</td>\n",
       "      <td>0.2</td>\n",
       "      <td>Iris-setosa</td>\n",
       "    </tr>\n",
       "    <tr>\n",
       "      <th>1</th>\n",
       "      <td>2</td>\n",
       "      <td>4.9</td>\n",
       "      <td>3.0</td>\n",
       "      <td>1.4</td>\n",
       "      <td>0.2</td>\n",
       "      <td>Iris-setosa</td>\n",
       "    </tr>\n",
       "    <tr>\n",
       "      <th>2</th>\n",
       "      <td>3</td>\n",
       "      <td>4.7</td>\n",
       "      <td>3.2</td>\n",
       "      <td>1.3</td>\n",
       "      <td>0.2</td>\n",
       "      <td>Iris-setosa</td>\n",
       "    </tr>\n",
       "    <tr>\n",
       "      <th>3</th>\n",
       "      <td>4</td>\n",
       "      <td>4.6</td>\n",
       "      <td>3.1</td>\n",
       "      <td>1.5</td>\n",
       "      <td>0.2</td>\n",
       "      <td>Iris-setosa</td>\n",
       "    </tr>\n",
       "    <tr>\n",
       "      <th>4</th>\n",
       "      <td>5</td>\n",
       "      <td>5.0</td>\n",
       "      <td>3.6</td>\n",
       "      <td>1.4</td>\n",
       "      <td>0.2</td>\n",
       "      <td>Iris-setosa</td>\n",
       "    </tr>\n",
       "  </tbody>\n",
       "</table>\n",
       "</div>"
      ],
      "text/plain": [
       "   Id  SepalLengthCm  SepalWidthCm  PetalLengthCm  PetalWidthCm      Species\n",
       "0   1            5.1           3.5            1.4           0.2  Iris-setosa\n",
       "1   2            4.9           3.0            1.4           0.2  Iris-setosa\n",
       "2   3            4.7           3.2            1.3           0.2  Iris-setosa\n",
       "3   4            4.6           3.1            1.5           0.2  Iris-setosa\n",
       "4   5            5.0           3.6            1.4           0.2  Iris-setosa"
      ]
     },
     "execution_count": 67,
     "metadata": {},
     "output_type": "execute_result"
    }
   ],
   "source": [
    "# check first 5 records from Iris data\n",
    "iris.head()"
   ]
  },
  {
   "cell_type": "code",
   "execution_count": 68,
   "id": "ee3c65ab",
   "metadata": {},
   "outputs": [
    {
     "data": {
      "text/plain": [
       "(150, 6)"
      ]
     },
     "execution_count": 68,
     "metadata": {},
     "output_type": "execute_result"
    }
   ],
   "source": [
    "# Get the dimension of the dataframe i.e. rows and columns\n",
    "iris.shape"
   ]
  },
  {
   "cell_type": "markdown",
   "id": "a862aed5",
   "metadata": {},
   "source": [
    "There are 150 rows and 6 columns in iris dataframe."
   ]
  },
  {
   "cell_type": "code",
   "execution_count": 69,
   "id": "3b12e314",
   "metadata": {},
   "outputs": [
    {
     "data": {
      "text/plain": [
       "Id                 int64\n",
       "SepalLengthCm    float64\n",
       "SepalWidthCm     float64\n",
       "PetalLengthCm    float64\n",
       "PetalWidthCm     float64\n",
       "Species           object\n",
       "dtype: object"
      ]
     },
     "execution_count": 69,
     "metadata": {},
     "output_type": "execute_result"
    }
   ],
   "source": [
    "# datatypes of columns in the dataframe\n",
    "iris.dtypes"
   ]
  },
  {
   "cell_type": "code",
   "execution_count": 70,
   "id": "dac99249",
   "metadata": {},
   "outputs": [
    {
     "data": {
      "text/html": [
       "<div>\n",
       "<style scoped>\n",
       "    .dataframe tbody tr th:only-of-type {\n",
       "        vertical-align: middle;\n",
       "    }\n",
       "\n",
       "    .dataframe tbody tr th {\n",
       "        vertical-align: top;\n",
       "    }\n",
       "\n",
       "    .dataframe thead th {\n",
       "        text-align: right;\n",
       "    }\n",
       "</style>\n",
       "<table border=\"1\" class=\"dataframe\">\n",
       "  <thead>\n",
       "    <tr style=\"text-align: right;\">\n",
       "      <th></th>\n",
       "      <th>Id</th>\n",
       "      <th>SepalLengthCm</th>\n",
       "      <th>SepalWidthCm</th>\n",
       "      <th>PetalLengthCm</th>\n",
       "      <th>PetalWidthCm</th>\n",
       "    </tr>\n",
       "  </thead>\n",
       "  <tbody>\n",
       "    <tr>\n",
       "      <th>count</th>\n",
       "      <td>150.000000</td>\n",
       "      <td>150.000000</td>\n",
       "      <td>150.000000</td>\n",
       "      <td>150.000000</td>\n",
       "      <td>150.000000</td>\n",
       "    </tr>\n",
       "    <tr>\n",
       "      <th>mean</th>\n",
       "      <td>75.500000</td>\n",
       "      <td>5.843333</td>\n",
       "      <td>3.054000</td>\n",
       "      <td>3.758667</td>\n",
       "      <td>1.198667</td>\n",
       "    </tr>\n",
       "    <tr>\n",
       "      <th>std</th>\n",
       "      <td>43.445368</td>\n",
       "      <td>0.828066</td>\n",
       "      <td>0.433594</td>\n",
       "      <td>1.764420</td>\n",
       "      <td>0.763161</td>\n",
       "    </tr>\n",
       "    <tr>\n",
       "      <th>min</th>\n",
       "      <td>1.000000</td>\n",
       "      <td>4.300000</td>\n",
       "      <td>2.000000</td>\n",
       "      <td>1.000000</td>\n",
       "      <td>0.100000</td>\n",
       "    </tr>\n",
       "    <tr>\n",
       "      <th>25%</th>\n",
       "      <td>38.250000</td>\n",
       "      <td>5.100000</td>\n",
       "      <td>2.800000</td>\n",
       "      <td>1.600000</td>\n",
       "      <td>0.300000</td>\n",
       "    </tr>\n",
       "    <tr>\n",
       "      <th>50%</th>\n",
       "      <td>75.500000</td>\n",
       "      <td>5.800000</td>\n",
       "      <td>3.000000</td>\n",
       "      <td>4.350000</td>\n",
       "      <td>1.300000</td>\n",
       "    </tr>\n",
       "    <tr>\n",
       "      <th>75%</th>\n",
       "      <td>112.750000</td>\n",
       "      <td>6.400000</td>\n",
       "      <td>3.300000</td>\n",
       "      <td>5.100000</td>\n",
       "      <td>1.800000</td>\n",
       "    </tr>\n",
       "    <tr>\n",
       "      <th>max</th>\n",
       "      <td>150.000000</td>\n",
       "      <td>7.900000</td>\n",
       "      <td>4.400000</td>\n",
       "      <td>6.900000</td>\n",
       "      <td>2.500000</td>\n",
       "    </tr>\n",
       "  </tbody>\n",
       "</table>\n",
       "</div>"
      ],
      "text/plain": [
       "               Id  SepalLengthCm  SepalWidthCm  PetalLengthCm  PetalWidthCm\n",
       "count  150.000000     150.000000    150.000000     150.000000    150.000000\n",
       "mean    75.500000       5.843333      3.054000       3.758667      1.198667\n",
       "std     43.445368       0.828066      0.433594       1.764420      0.763161\n",
       "min      1.000000       4.300000      2.000000       1.000000      0.100000\n",
       "25%     38.250000       5.100000      2.800000       1.600000      0.300000\n",
       "50%     75.500000       5.800000      3.000000       4.350000      1.300000\n",
       "75%    112.750000       6.400000      3.300000       5.100000      1.800000\n",
       "max    150.000000       7.900000      4.400000       6.900000      2.500000"
      ]
     },
     "execution_count": 70,
     "metadata": {},
     "output_type": "execute_result"
    }
   ],
   "source": [
    "# Descriptive statistics\n",
    "iris.describe()"
   ]
  },
  {
   "cell_type": "code",
   "execution_count": 71,
   "id": "f7624fde",
   "metadata": {},
   "outputs": [
    {
     "name": "stdout",
     "output_type": "stream",
     "text": [
      "<class 'pandas.core.frame.DataFrame'>\n",
      "RangeIndex: 150 entries, 0 to 149\n",
      "Data columns (total 6 columns):\n",
      " #   Column         Non-Null Count  Dtype  \n",
      "---  ------         --------------  -----  \n",
      " 0   Id             150 non-null    int64  \n",
      " 1   SepalLengthCm  150 non-null    float64\n",
      " 2   SepalWidthCm   150 non-null    float64\n",
      " 3   PetalLengthCm  150 non-null    float64\n",
      " 4   PetalWidthCm   150 non-null    float64\n",
      " 5   Species        150 non-null    object \n",
      "dtypes: float64(4), int64(1), object(1)\n",
      "memory usage: 7.2+ KB\n"
     ]
    }
   ],
   "source": [
    "# Concise summary of a DataFrame.\n",
    "iris.info()"
   ]
  },
  {
   "cell_type": "code",
   "execution_count": 72,
   "id": "69c30208",
   "metadata": {},
   "outputs": [
    {
     "data": {
      "text/plain": [
       "Id               0\n",
       "SepalLengthCm    0\n",
       "SepalWidthCm     0\n",
       "PetalLengthCm    0\n",
       "PetalWidthCm     0\n",
       "Species          0\n",
       "dtype: int64"
      ]
     },
     "execution_count": 72,
     "metadata": {},
     "output_type": "execute_result"
    }
   ],
   "source": [
    "# Check for null/missing values\n",
    "iris.isnull().sum()"
   ]
  },
  {
   "cell_type": "markdown",
   "id": "8433b297",
   "metadata": {},
   "source": [
    "There are no null/missing values in our data"
   ]
  },
  {
   "cell_type": "markdown",
   "id": "4d4d225e",
   "metadata": {},
   "source": [
    "#### Count of each type of Species in data"
   ]
  },
  {
   "cell_type": "code",
   "execution_count": 73,
   "id": "6f153302",
   "metadata": {},
   "outputs": [
    {
     "data": {
      "text/plain": [
       "Iris-setosa        50\n",
       "Iris-versicolor    50\n",
       "Iris-virginica     50\n",
       "Name: Species, dtype: int64"
      ]
     },
     "execution_count": 73,
     "metadata": {},
     "output_type": "execute_result"
    }
   ],
   "source": [
    "# Get the count of each type of species in the iris dataframe\n",
    "iris.Species.value_counts()"
   ]
  },
  {
   "cell_type": "markdown",
   "id": "13e6b729",
   "metadata": {},
   "source": [
    "So there are three types Setosa, Versicolor, Verginica and each has 50 counts."
   ]
  },
  {
   "cell_type": "markdown",
   "id": "2ac81f62",
   "metadata": {},
   "source": [
    "Also from above we can conclude that our data is a balanced data."
   ]
  },
  {
   "cell_type": "code",
   "execution_count": 74,
   "id": "22d0f6a2",
   "metadata": {
    "scrolled": false
   },
   "outputs": [
    {
     "data": {
      "text/html": [
       "<div>\n",
       "<style scoped>\n",
       "    .dataframe tbody tr th:only-of-type {\n",
       "        vertical-align: middle;\n",
       "    }\n",
       "\n",
       "    .dataframe tbody tr th {\n",
       "        vertical-align: top;\n",
       "    }\n",
       "\n",
       "    .dataframe thead th {\n",
       "        text-align: right;\n",
       "    }\n",
       "</style>\n",
       "<table border=\"1\" class=\"dataframe\">\n",
       "  <thead>\n",
       "    <tr style=\"text-align: right;\">\n",
       "      <th></th>\n",
       "      <th>SepalLengthCm</th>\n",
       "      <th>SepalWidthCm</th>\n",
       "      <th>PetalLengthCm</th>\n",
       "      <th>PetalWidthCm</th>\n",
       "    </tr>\n",
       "  </thead>\n",
       "  <tbody>\n",
       "    <tr>\n",
       "      <th>0</th>\n",
       "      <td>5.1</td>\n",
       "      <td>3.5</td>\n",
       "      <td>1.4</td>\n",
       "      <td>0.2</td>\n",
       "    </tr>\n",
       "    <tr>\n",
       "      <th>1</th>\n",
       "      <td>4.9</td>\n",
       "      <td>3.0</td>\n",
       "      <td>1.4</td>\n",
       "      <td>0.2</td>\n",
       "    </tr>\n",
       "    <tr>\n",
       "      <th>2</th>\n",
       "      <td>4.7</td>\n",
       "      <td>3.2</td>\n",
       "      <td>1.3</td>\n",
       "      <td>0.2</td>\n",
       "    </tr>\n",
       "    <tr>\n",
       "      <th>3</th>\n",
       "      <td>4.6</td>\n",
       "      <td>3.1</td>\n",
       "      <td>1.5</td>\n",
       "      <td>0.2</td>\n",
       "    </tr>\n",
       "    <tr>\n",
       "      <th>4</th>\n",
       "      <td>5.0</td>\n",
       "      <td>3.6</td>\n",
       "      <td>1.4</td>\n",
       "      <td>0.2</td>\n",
       "    </tr>\n",
       "  </tbody>\n",
       "</table>\n",
       "</div>"
      ],
      "text/plain": [
       "   SepalLengthCm  SepalWidthCm  PetalLengthCm  PetalWidthCm\n",
       "0            5.1           3.5            1.4           0.2\n",
       "1            4.9           3.0            1.4           0.2\n",
       "2            4.7           3.2            1.3           0.2\n",
       "3            4.6           3.1            1.5           0.2\n",
       "4            5.0           3.6            1.4           0.2"
      ]
     },
     "execution_count": 74,
     "metadata": {},
     "output_type": "execute_result"
    }
   ],
   "source": [
    "# selecting only those features/columns which are required for our analysis\n",
    "X = iris.iloc[:,1:5]\n",
    "X.head()"
   ]
  },
  {
   "cell_type": "markdown",
   "id": "8de93175",
   "metadata": {},
   "source": [
    "### K-means Clustering"
   ]
  },
  {
   "cell_type": "markdown",
   "id": "0e907749",
   "metadata": {},
   "source": [
    "First we will find the optimum value for our clusters using Elbow Method.\n",
    "<br>\n",
    "<br>\n",
    "The Elbow method uses the WCSS concept to draw the plot by plotting WCSS values on the Y-axis and the number of clusters on the X-axis. So we are going to calculate the value for WCSS for different k values ranging from 1 to 15."
   ]
  },
  {
   "cell_type": "code",
   "execution_count": 75,
   "id": "2867cb07",
   "metadata": {},
   "outputs": [],
   "source": [
    "wcss=[]\n",
    "k=range(1,15)\n",
    "for i in k:\n",
    "    kmeansmodel=KMeans(n_clusters=i,init='k-means++',max_iter=300,n_init=15,random_state=42)\n",
    "    kmeansmodel.fit(X)\n",
    "    wcss.append(kmeansmodel.inertia_)"
   ]
  },
  {
   "cell_type": "code",
   "execution_count": 76,
   "id": "e2f4131d",
   "metadata": {},
   "outputs": [
    {
     "data": {
      "image/png": "[encoded data removed]",
      "text/plain": [
       "<Figure size 864x576 with 1 Axes>"
      ]
     },
     "metadata": {
      "needs_background": "light"
     },
     "output_type": "display_data"
    }
   ],
   "source": [
    "# The Elbow Plot\n",
    "plt.figure(figsize=(12,8))\n",
    "plt.plot(k,wcss,color='green', marker='o', linestyle='dashed')\n",
    "plt.xlabel('k')\n",
    "plt.ylabel('WCSS')\n",
    "plt.title('Elbow Plot')\n",
    "plt.show()"
   ]
  },
  {
   "cell_type": "markdown",
   "id": "33097008",
   "metadata": {},
   "source": [
    "From above Elbow plot we can say the optimum number of clusters should be 3."
   ]
  },
  {
   "cell_type": "markdown",
   "id": "2e02172c",
   "metadata": {},
   "source": [
    "#### Training the K-means algorithm on the dataset"
   ]
  },
  {
   "cell_type": "code",
   "execution_count": 77,
   "id": "6e19d8b5",
   "metadata": {},
   "outputs": [],
   "source": [
    "# initialize the K-Means\n",
    "clust_final = KMeans(n_clusters=3,init='k-means++',max_iter=300,n_init=15,random_state=42)"
   ]
  },
  {
   "cell_type": "code",
   "execution_count": 78,
   "id": "f9259b05",
   "metadata": {},
   "outputs": [],
   "source": [
    "# predict on the data\n",
    "clustfinal = clust_final.fit_predict(X)"
   ]
  },
  {
   "cell_type": "code",
   "execution_count": 79,
   "id": "3a6935ca",
   "metadata": {},
   "outputs": [
    {
     "data": {
      "text/plain": [
       "array([1, 1, 1, 1, 1, 1, 1, 1, 1, 1, 1, 1, 1, 1, 1, 1, 1, 1, 1, 1, 1, 1,\n",
       "       1, 1, 1, 1, 1, 1, 1, 1, 1, 1, 1, 1, 1, 1, 1, 1, 1, 1, 1, 1, 1, 1,\n",
       "       1, 1, 1, 1, 1, 1, 0, 0, 2, 0, 0, 0, 0, 0, 0, 0, 0, 0, 0, 0, 0, 0,\n",
       "       0, 0, 0, 0, 0, 0, 0, 0, 0, 0, 0, 2, 0, 0, 0, 0, 0, 0, 0, 0, 0, 0,\n",
       "       0, 0, 0, 0, 0, 0, 0, 0, 0, 0, 0, 0, 2, 0, 2, 2, 2, 2, 0, 2, 2, 2,\n",
       "       2, 2, 2, 0, 0, 2, 2, 2, 2, 0, 2, 0, 2, 0, 2, 2, 0, 0, 2, 2, 2, 2,\n",
       "       2, 0, 2, 2, 2, 2, 0, 2, 2, 2, 0, 2, 2, 2, 0, 2, 2, 0])"
      ]
     },
     "execution_count": 79,
     "metadata": {},
     "output_type": "execute_result"
    }
   ],
   "source": [
    "clust_final.labels_"
   ]
  },
  {
   "cell_type": "code",
   "execution_count": 80,
   "id": "bff964c9",
   "metadata": {},
   "outputs": [
    {
     "data": {
      "image/png": "[encoded data removed]",
      "text/plain": [
       "<Figure size 864x432 with 1 Axes>"
      ]
     },
     "metadata": {
      "needs_background": "light"
     },
     "output_type": "display_data"
    }
   ],
   "source": [
    "# Visualizing the Clusters\n",
    "plt.figure(figsize=(12,6))\n",
    "plt.scatter(X.iloc[clustfinal==0,0],X.iloc[clustfinal==0,1],s=100,c='blue',label='Setosa')\n",
    "plt.scatter(X.iloc[clustfinal==1,0],X.iloc[clustfinal==1,1],s=100,c='green',label='Versicolor')\n",
    "plt.scatter(X.iloc[clustfinal==2,0],X.iloc[clustfinal==2,1],s=100,c='yellow',label='Virginica')\n",
    "# Plotting the centroids of the clusters\n",
    "plt.scatter(clust_final.cluster_centers_[:, 0], clust_final.cluster_centers_[:,1],s = 100, c = 'red', label = 'Centroids')\n",
    "plt.title('Iris Clusters')\n",
    "plt.legend()\n",
    "plt.show()"
   ]
  },
  {
   "cell_type": "markdown",
   "id": "1e148e9f",
   "metadata": {},
   "source": [
    "#### Silhouette Coefficient or silhouette score:\n",
    "It is a metric used to calculate the goodness of a clustering technique. Its value ranges from -1 to 1.\n",
    "<br>\n",
    "1: Means clusters are well apart from each other and clearly distinguished.\n",
    "<br>\n",
    "0: Means clusters are indifferent, or we can say that the clusters are overlapping.\n",
    "<br>\n",
    "-1: Means clusters are assigned in the wrong way."
   ]
  },
  {
   "cell_type": "code",
   "execution_count": 81,
   "id": "bc0c9e5b",
   "metadata": {},
   "outputs": [],
   "source": [
    "X['Clusters'] = clustfinal"
   ]
  },
  {
   "cell_type": "code",
   "execution_count": 82,
   "id": "1be6b3e8",
   "metadata": {},
   "outputs": [
    {
     "data": {
      "text/plain": [
       "0    62\n",
       "1    50\n",
       "2    38\n",
       "Name: Clusters, dtype: int64"
      ]
     },
     "execution_count": 82,
     "metadata": {},
     "output_type": "execute_result"
    }
   ],
   "source": [
    "X['Clusters'].value_counts()"
   ]
  },
  {
   "cell_type": "code",
   "execution_count": 83,
   "id": "e45f590a",
   "metadata": {},
   "outputs": [
    {
     "data": {
      "text/plain": [
       "0.684936462996038"
      ]
     },
     "execution_count": 83,
     "metadata": {},
     "output_type": "execute_result"
    }
   ],
   "source": [
    "silhouette_score(X,clust_final.labels_)"
   ]
  },
  {
   "cell_type": "markdown",
   "id": "4a08782c",
   "metadata": {},
   "source": [
    "#### DBSCAN"
   ]
  },
  {
   "cell_type": "code",
   "execution_count": 84,
   "id": "e4807e78",
   "metadata": {},
   "outputs": [],
   "source": [
    "# drop the 'Clusters' which were predictions of K-means\n",
    "X = X.drop('Clusters',axis=1)"
   ]
  },
  {
   "cell_type": "markdown",
   "id": "adc85cdc",
   "metadata": {},
   "source": [
    "First we will find the optimum value of epsilon for DBSCAN clustering"
   ]
  },
  {
   "cell_type": "code",
   "execution_count": 85,
   "id": "ddfc5244",
   "metadata": {},
   "outputs": [],
   "source": [
    "# Calculate the average distance between each point in the data set and its 8 nearest neighbors\n",
    "neighbors = NearestNeighbors(n_neighbors=8)\n",
    "neighbors_fit = neighbors.fit(X)\n",
    "distances, indices = neighbors_fit.kneighbors(X)"
   ]
  },
  {
   "cell_type": "code",
   "execution_count": 86,
   "id": "6fd8da5b",
   "metadata": {},
   "outputs": [],
   "source": [
    "# Sort distance values by ascending value and plot\n",
    "distances = np.sort(distances, axis=0)\n",
    "distances = distances[:,1]"
   ]
  },
  {
   "cell_type": "code",
   "execution_count": 87,
   "id": "1af1323f",
   "metadata": {},
   "outputs": [
    {
     "data": {
      "image/png": "[encoded data removed]",
      "text/plain": [
       "<Figure size 720x432 with 1 Axes>"
      ]
     },
     "metadata": {
      "needs_background": "light"
     },
     "output_type": "display_data"
    }
   ],
   "source": [
    "#plot the distance\n",
    "plt.figure(figsize=(10,6))\n",
    "plt.plot(distances)\n",
    "plt.title('Optimum value of epsilon')\n",
    "plt.grid()\n",
    "plt.show()"
   ]
  },
  {
   "cell_type": "markdown",
   "id": "3dc28ef6",
   "metadata": {},
   "source": [
    "The ideal value for epsilon will be equal to the distance value at the “crook of the elbow”, or the point of maximum curvature. "
   ]
  },
  {
   "cell_type": "code",
   "execution_count": 88,
   "id": "9494a1a2",
   "metadata": {},
   "outputs": [],
   "source": [
    "# initialize DBSCAN using epsilon = 0.45\n",
    "dbs = DBSCAN(eps=0.45,min_samples=8)"
   ]
  },
  {
   "cell_type": "code",
   "execution_count": 89,
   "id": "481f747e",
   "metadata": {},
   "outputs": [],
   "source": [
    "# fit and predict on the data\n",
    "db_scan = dbs.fit_predict(X)"
   ]
  },
  {
   "cell_type": "code",
   "execution_count": 90,
   "id": "17e7588c",
   "metadata": {},
   "outputs": [
    {
     "data": {
      "image/png": "[encoded data removed]",
      "text/plain": [
       "<Figure size 864x432 with 1 Axes>"
      ]
     },
     "metadata": {
      "needs_background": "light"
     },
     "output_type": "display_data"
    }
   ],
   "source": [
    "# Visualizing the Clusters\n",
    "plt.figure(figsize=(12,6))\n",
    "plt.scatter(X.iloc[:, 0], X.iloc[:, 1], c=db_scan, s=50, cmap='viridis')\n",
    "plt.title('Iris Clusters using DBSCAN')\n",
    "plt.show()"
   ]
  },
  {
   "cell_type": "code",
   "execution_count": 91,
   "id": "6e49aa98",
   "metadata": {},
   "outputs": [],
   "source": [
    "X['Clusters'] = db_scan"
   ]
  },
  {
   "cell_type": "code",
   "execution_count": 92,
   "id": "ec4d03cb",
   "metadata": {},
   "outputs": [
    {
     "data": {
      "text/plain": [
       " 1    71\n",
       " 0    45\n",
       "-1    34\n",
       "Name: Clusters, dtype: int64"
      ]
     },
     "execution_count": 92,
     "metadata": {},
     "output_type": "execute_result"
    }
   ],
   "source": [
    "X.Clusters.value_counts()"
   ]
  },
  {
   "cell_type": "code",
   "execution_count": 93,
   "id": "b79debe4",
   "metadata": {},
   "outputs": [
    {
     "data": {
      "text/plain": [
       "0.5396863658467854"
      ]
     },
     "execution_count": 93,
     "metadata": {},
     "output_type": "execute_result"
    }
   ],
   "source": [
    "silhouette_score(X,db_scan)"
   ]
  },
  {
   "cell_type": "markdown",
   "id": "d7b0d239",
   "metadata": {},
   "source": [
    "### Summary:\n",
    "    1. We used clustering techniques like K-means and DBSCAN where K-Means with clusters = 3 gave good result with a \n",
    "    Silhoutte Score of 0.6849.\n",
    "    2. The DBSCAN technique could only create 2 clusters and it classified other points as outliers.\n",
    "    3. In the dataset we were already given target values so basically we could have used classification algorithms to solve            this problem also."
   ]
  }
 ],
 "metadata": {
  "kernelspec": {
   "display_name": "Python 3 (ipykernel)",
   "language": "python",
   "name": "python3"
  },
  "language_info": {
   "codemirror_mode": {
    "name": "ipython",
    "version": 3
   },
   "file_extension": ".py",
   "mimetype": "text/x-python",
   "name": "python",
   "nbconvert_exporter": "python",
   "pygments_lexer": "ipython3",
   "version": "3.9.7"
  }
 },
 "nbformat": 4,
 "nbformat_minor": 5
}

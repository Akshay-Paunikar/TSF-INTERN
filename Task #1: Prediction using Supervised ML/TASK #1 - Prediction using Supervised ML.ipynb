{
 "cells": [
  {
   "cell_type": "markdown",
   "id": "57571433",
   "metadata": {},
   "source": [
    "## <center>The Sparks Foundation</center>\n",
    "### <center>TASK #1 - Prediction using Supervised ML</center>\n",
    "### <center>Domain : Data Science and Business Analytics</center>\n",
    "### <center>Author : Akshay Pandurang Paunikar</center>"
   ]
  },
  {
   "cell_type": "markdown",
   "id": "f7c0fe79",
   "metadata": {},
   "source": [
    "#### Overview and Objectives:\n",
    "    Predict the percentage of a student based on number of study hours.\n",
    "    This is a Simple Linear Regression Task as it involves just 2 variables.\n",
    "    What will be the predicted score if student studies for 9.25 hours?"
   ]
  },
  {
   "cell_type": "code",
   "execution_count": 50,
   "id": "4effa949",
   "metadata": {},
   "outputs": [],
   "source": [
    "# import required libraries\n",
    "import numpy as np\n",
    "import pandas as pd\n",
    "import matplotlib.pyplot as plt\n",
    "%matplotlib inline\n",
    "import seaborn as sns\n",
    "from sklearn.model_selection import train_test_split\n",
    "from sklearn.linear_model import LinearRegression\n",
    "from sklearn.metrics import r2_score, mean_absolute_error, mean_squared_error"
   ]
  },
  {
   "cell_type": "code",
   "execution_count": 51,
   "id": "c7b162a0",
   "metadata": {},
   "outputs": [],
   "source": [
    "# load the data from url\n",
    "link = \"http://bit.ly/w-data\"\n",
    "data = pd.read_csv(link)"
   ]
  },
  {
   "cell_type": "code",
   "execution_count": 52,
   "id": "4f32e49b",
   "metadata": {},
   "outputs": [
    {
     "data": {
      "text/html": [
       "<div>\n",
       "<style scoped>\n",
       "    .dataframe tbody tr th:only-of-type {\n",
       "        vertical-align: middle;\n",
       "    }\n",
       "\n",
       "    .dataframe tbody tr th {\n",
       "        vertical-align: top;\n",
       "    }\n",
       "\n",
       "    .dataframe thead th {\n",
       "        text-align: right;\n",
       "    }\n",
       "</style>\n",
       "<table border=\"1\" class=\"dataframe\">\n",
       "  <thead>\n",
       "    <tr style=\"text-align: right;\">\n",
       "      <th></th>\n",
       "      <th>Hours</th>\n",
       "      <th>Scores</th>\n",
       "    </tr>\n",
       "  </thead>\n",
       "  <tbody>\n",
       "    <tr>\n",
       "      <th>0</th>\n",
       "      <td>2.5</td>\n",
       "      <td>21</td>\n",
       "    </tr>\n",
       "    <tr>\n",
       "      <th>1</th>\n",
       "      <td>5.1</td>\n",
       "      <td>47</td>\n",
       "    </tr>\n",
       "    <tr>\n",
       "      <th>2</th>\n",
       "      <td>3.2</td>\n",
       "      <td>27</td>\n",
       "    </tr>\n",
       "    <tr>\n",
       "      <th>3</th>\n",
       "      <td>8.5</td>\n",
       "      <td>75</td>\n",
       "    </tr>\n",
       "    <tr>\n",
       "      <th>4</th>\n",
       "      <td>3.5</td>\n",
       "      <td>30</td>\n",
       "    </tr>\n",
       "  </tbody>\n",
       "</table>\n",
       "</div>"
      ],
      "text/plain": [
       "   Hours  Scores\n",
       "0    2.5      21\n",
       "1    5.1      47\n",
       "2    3.2      27\n",
       "3    8.5      75\n",
       "4    3.5      30"
      ]
     },
     "execution_count": 52,
     "metadata": {},
     "output_type": "execute_result"
    }
   ],
   "source": [
    "# Lets see the first 5 records from our data\n",
    "data.head()"
   ]
  },
  {
   "cell_type": "code",
   "execution_count": 53,
   "id": "36e9b68d",
   "metadata": {},
   "outputs": [
    {
     "data": {
      "text/plain": [
       "(25, 2)"
      ]
     },
     "execution_count": 53,
     "metadata": {},
     "output_type": "execute_result"
    }
   ],
   "source": [
    "# check how many rows and columns are in our data\n",
    "data.shape"
   ]
  },
  {
   "cell_type": "markdown",
   "id": "0e254f10",
   "metadata": {},
   "source": [
    "There are 25 rows and 2 columns in our data"
   ]
  },
  {
   "cell_type": "code",
   "execution_count": 54,
   "id": "4a1ee14d",
   "metadata": {},
   "outputs": [
    {
     "data": {
      "text/plain": [
       "Hours     float64\n",
       "Scores      int64\n",
       "dtype: object"
      ]
     },
     "execution_count": 54,
     "metadata": {},
     "output_type": "execute_result"
    }
   ],
   "source": [
    "# datatypes of the dataframe\n",
    "data.dtypes"
   ]
  },
  {
   "cell_type": "code",
   "execution_count": 55,
   "id": "48793f84",
   "metadata": {},
   "outputs": [
    {
     "data": {
      "text/html": [
       "<div>\n",
       "<style scoped>\n",
       "    .dataframe tbody tr th:only-of-type {\n",
       "        vertical-align: middle;\n",
       "    }\n",
       "\n",
       "    .dataframe tbody tr th {\n",
       "        vertical-align: top;\n",
       "    }\n",
       "\n",
       "    .dataframe thead th {\n",
       "        text-align: right;\n",
       "    }\n",
       "</style>\n",
       "<table border=\"1\" class=\"dataframe\">\n",
       "  <thead>\n",
       "    <tr style=\"text-align: right;\">\n",
       "      <th></th>\n",
       "      <th>Hours</th>\n",
       "      <th>Scores</th>\n",
       "    </tr>\n",
       "  </thead>\n",
       "  <tbody>\n",
       "    <tr>\n",
       "      <th>count</th>\n",
       "      <td>25.000000</td>\n",
       "      <td>25.000000</td>\n",
       "    </tr>\n",
       "    <tr>\n",
       "      <th>mean</th>\n",
       "      <td>5.012000</td>\n",
       "      <td>51.480000</td>\n",
       "    </tr>\n",
       "    <tr>\n",
       "      <th>std</th>\n",
       "      <td>2.525094</td>\n",
       "      <td>25.286887</td>\n",
       "    </tr>\n",
       "    <tr>\n",
       "      <th>min</th>\n",
       "      <td>1.100000</td>\n",
       "      <td>17.000000</td>\n",
       "    </tr>\n",
       "    <tr>\n",
       "      <th>25%</th>\n",
       "      <td>2.700000</td>\n",
       "      <td>30.000000</td>\n",
       "    </tr>\n",
       "    <tr>\n",
       "      <th>50%</th>\n",
       "      <td>4.800000</td>\n",
       "      <td>47.000000</td>\n",
       "    </tr>\n",
       "    <tr>\n",
       "      <th>75%</th>\n",
       "      <td>7.400000</td>\n",
       "      <td>75.000000</td>\n",
       "    </tr>\n",
       "    <tr>\n",
       "      <th>max</th>\n",
       "      <td>9.200000</td>\n",
       "      <td>95.000000</td>\n",
       "    </tr>\n",
       "  </tbody>\n",
       "</table>\n",
       "</div>"
      ],
      "text/plain": [
       "           Hours     Scores\n",
       "count  25.000000  25.000000\n",
       "mean    5.012000  51.480000\n",
       "std     2.525094  25.286887\n",
       "min     1.100000  17.000000\n",
       "25%     2.700000  30.000000\n",
       "50%     4.800000  47.000000\n",
       "75%     7.400000  75.000000\n",
       "max     9.200000  95.000000"
      ]
     },
     "execution_count": 55,
     "metadata": {},
     "output_type": "execute_result"
    }
   ],
   "source": [
    "# Generate descriptive statistics.\n",
    "data.describe()"
   ]
  },
  {
   "cell_type": "code",
   "execution_count": 56,
   "id": "8da0fb2c",
   "metadata": {},
   "outputs": [
    {
     "name": "stdout",
     "output_type": "stream",
     "text": [
      "<class 'pandas.core.frame.DataFrame'>\n",
      "RangeIndex: 25 entries, 0 to 24\n",
      "Data columns (total 2 columns):\n",
      " #   Column  Non-Null Count  Dtype  \n",
      "---  ------  --------------  -----  \n",
      " 0   Hours   25 non-null     float64\n",
      " 1   Scores  25 non-null     int64  \n",
      "dtypes: float64(1), int64(1)\n",
      "memory usage: 528.0 bytes\n"
     ]
    }
   ],
   "source": [
    "# Print a concise summary of a DataFrame\n",
    "data.info()"
   ]
  },
  {
   "cell_type": "code",
   "execution_count": 57,
   "id": "9359134d",
   "metadata": {},
   "outputs": [
    {
     "data": {
      "text/plain": [
       "Hours     0\n",
       "Scores    0\n",
       "dtype: int64"
      ]
     },
     "execution_count": 57,
     "metadata": {},
     "output_type": "execute_result"
    }
   ],
   "source": [
    "#check for any null values\n",
    "data.isnull().sum()"
   ]
  },
  {
   "cell_type": "markdown",
   "id": "622d92e4",
   "metadata": {},
   "source": [
    "Here we can see that there are no missing values in our data"
   ]
  },
  {
   "cell_type": "markdown",
   "id": "e7d5c77b",
   "metadata": {},
   "source": [
    "#### Now we will plot scatterplot between Hours and Scores to see the relation between them"
   ]
  },
  {
   "cell_type": "code",
   "execution_count": 58,
   "id": "1cf3a22f",
   "metadata": {},
   "outputs": [
    {
     "data": {
      "image/png": "[encoded data removed]",
      "text/plain": [
       "<Figure size 720x432 with 1 Axes>"
      ]
     },
     "metadata": {
      "needs_background": "light"
     },
     "output_type": "display_data"
    }
   ],
   "source": [
    "#Scatterplot of Hours vs Scores\n",
    "plt.figure(figsize=(10,6))\n",
    "sns.scatterplot(x=data.Hours,y=data.Scores,color='crimson')\n",
    "plt.legend(['Scores'])\n",
    "plt.xlabel('No of Study Hours')\n",
    "plt.ylabel('Percentage Scores')\n",
    "plt.title('Scatterplot of Hours vs Scores')\n",
    "plt.grid('True')\n",
    "plt.show()"
   ]
  },
  {
   "cell_type": "markdown",
   "id": "b420adda",
   "metadata": {},
   "source": [
    "#### From above scatterplot we can see that there is a positive linear relationship between no of hours studied and percentage scores obtained i.e. as the number of hours increases the percentage score also increases."
   ]
  },
  {
   "cell_type": "markdown",
   "id": "04e5ecc2",
   "metadata": {},
   "source": [
    "### Now we will separate the data into features (X) and target (y) for further analysis"
   ]
  },
  {
   "cell_type": "code",
   "execution_count": 59,
   "id": "fb10dc07",
   "metadata": {},
   "outputs": [],
   "source": [
    "# creating feature (X) and target (y) variables\n",
    "X = data.drop('Scores',axis=1)\n",
    "y = data.Scores"
   ]
  },
  {
   "cell_type": "code",
   "execution_count": 60,
   "id": "f112649c",
   "metadata": {},
   "outputs": [],
   "source": [
    "# Now we will divide the data into train and test using train_test_split\n",
    "X_train, X_test, y_train, y_test = train_test_split(X, y, test_size=0.25, random_state=0)"
   ]
  },
  {
   "cell_type": "code",
   "execution_count": 61,
   "id": "c99acbeb",
   "metadata": {},
   "outputs": [
    {
     "name": "stdout",
     "output_type": "stream",
     "text": [
      "X_train : (18, 1)\n",
      "X_test : (7, 1)\n",
      "y_train : (18,)\n",
      "y_test : (7,)\n"
     ]
    }
   ],
   "source": [
    "# check the shape of train and test data\n",
    "print('X_train :',X_train.shape)\n",
    "print('X_test :',X_test.shape)\n",
    "print('y_train :',y_train.shape)\n",
    "print('y_test :',y_test.shape)"
   ]
  },
  {
   "cell_type": "markdown",
   "id": "9f1cf9a5",
   "metadata": {},
   "source": [
    "## Linear Regression model"
   ]
  },
  {
   "cell_type": "code",
   "execution_count": 62,
   "id": "6bfcf219",
   "metadata": {},
   "outputs": [],
   "source": [
    "# Linear Regression\n",
    "lin_reg = LinearRegression()"
   ]
  },
  {
   "cell_type": "code",
   "execution_count": 63,
   "id": "b31fb073",
   "metadata": {},
   "outputs": [
    {
     "data": {
      "text/plain": [
       "LinearRegression()"
      ]
     },
     "execution_count": 63,
     "metadata": {},
     "output_type": "execute_result"
    }
   ],
   "source": [
    "# now fit the training data to train the model\n",
    "lin_reg.fit(X_train,y_train)"
   ]
  },
  {
   "cell_type": "code",
   "execution_count": 64,
   "id": "6a133eb0",
   "metadata": {},
   "outputs": [
    {
     "data": {
      "text/plain": [
       "0.9484509249326872"
      ]
     },
     "execution_count": 64,
     "metadata": {},
     "output_type": "execute_result"
    }
   ],
   "source": [
    "#check the score of our model\n",
    "lin_reg.score(X_train,y_train)"
   ]
  },
  {
   "cell_type": "code",
   "execution_count": 65,
   "id": "bdd3a090",
   "metadata": {},
   "outputs": [
    {
     "data": {
      "image/png": "[encoded data removed]",
      "text/plain": [
       "<Figure size 720x432 with 1 Axes>"
      ]
     },
     "metadata": {
      "needs_background": "light"
     },
     "output_type": "display_data"
    }
   ],
   "source": [
    "# Now we will plot the regression line\n",
    "reg = lin_reg.coef_ * X + lin_reg.intercept_\n",
    "plt.figure(figsize=(10,6))\n",
    "sns.scatterplot(x=data.Hours,y=data.Scores,color='green')\n",
    "plt.plot(X,reg,color='red')\n",
    "plt.xlabel('No of Study Hours')\n",
    "plt.ylabel('Percentage Scores')\n",
    "plt.title('Best Fit Regression Line')\n",
    "plt.grid('True')\n",
    "plt.show()"
   ]
  },
  {
   "cell_type": "code",
   "execution_count": 66,
   "id": "847a9432",
   "metadata": {},
   "outputs": [],
   "source": [
    "# Now we will make predictions on our test data X_test\n",
    "predictions = lin_reg.predict(X_test)"
   ]
  },
  {
   "cell_type": "code",
   "execution_count": 67,
   "id": "8b219a07",
   "metadata": {},
   "outputs": [
    {
     "data": {
      "text/html": [
       "<div>\n",
       "<style scoped>\n",
       "    .dataframe tbody tr th:only-of-type {\n",
       "        vertical-align: middle;\n",
       "    }\n",
       "\n",
       "    .dataframe tbody tr th {\n",
       "        vertical-align: top;\n",
       "    }\n",
       "\n",
       "    .dataframe thead th {\n",
       "        text-align: right;\n",
       "    }\n",
       "</style>\n",
       "<table border=\"1\" class=\"dataframe\">\n",
       "  <thead>\n",
       "    <tr style=\"text-align: right;\">\n",
       "      <th></th>\n",
       "      <th>Actual</th>\n",
       "      <th>Predicted</th>\n",
       "    </tr>\n",
       "  </thead>\n",
       "  <tbody>\n",
       "    <tr>\n",
       "      <th>5</th>\n",
       "      <td>20</td>\n",
       "      <td>16.844722</td>\n",
       "    </tr>\n",
       "    <tr>\n",
       "      <th>2</th>\n",
       "      <td>27</td>\n",
       "      <td>33.745575</td>\n",
       "    </tr>\n",
       "    <tr>\n",
       "      <th>19</th>\n",
       "      <td>69</td>\n",
       "      <td>75.500624</td>\n",
       "    </tr>\n",
       "    <tr>\n",
       "      <th>16</th>\n",
       "      <td>30</td>\n",
       "      <td>26.786400</td>\n",
       "    </tr>\n",
       "    <tr>\n",
       "      <th>11</th>\n",
       "      <td>62</td>\n",
       "      <td>60.588106</td>\n",
       "    </tr>\n",
       "    <tr>\n",
       "      <th>22</th>\n",
       "      <td>35</td>\n",
       "      <td>39.710582</td>\n",
       "    </tr>\n",
       "    <tr>\n",
       "      <th>17</th>\n",
       "      <td>24</td>\n",
       "      <td>20.821393</td>\n",
       "    </tr>\n",
       "  </tbody>\n",
       "</table>\n",
       "</div>"
      ],
      "text/plain": [
       "    Actual  Predicted\n",
       "5       20  16.844722\n",
       "2       27  33.745575\n",
       "19      69  75.500624\n",
       "16      30  26.786400\n",
       "11      62  60.588106\n",
       "22      35  39.710582\n",
       "17      24  20.821393"
      ]
     },
     "execution_count": 67,
     "metadata": {},
     "output_type": "execute_result"
    }
   ],
   "source": [
    "# caompare Actual Vs Predicted values\n",
    "comparison = pd.DataFrame({'Actual':y_test,'Predicted':predictions})\n",
    "comparison"
   ]
  },
  {
   "cell_type": "markdown",
   "id": "b14152e4",
   "metadata": {},
   "source": [
    "#### Now we will evaluate our model using R2 score, RMSE, Mean Absolute Error"
   ]
  },
  {
   "cell_type": "code",
   "execution_count": 68,
   "id": "ac196a16",
   "metadata": {},
   "outputs": [
    {
     "name": "stdout",
     "output_type": "stream",
     "text": [
      "R2 Score : 0.9367661043365055\n",
      "\n",
      "RMSE : 4.5092043283688055\n",
      "\n",
      "Mean Absolute Error : 4.130879918502486\n"
     ]
    }
   ],
   "source": [
    "# R2 Score\n",
    "print(\"R2 Score :\", r2_score(y_true=y_test, y_pred=predictions))\n",
    "print()\n",
    "# RMSE\n",
    "print(\"RMSE :\", np.sqrt(mean_squared_error(y_true=y_test, y_pred=predictions)))\n",
    "print()\n",
    "# Mean Absolute Error\n",
    "print(\"Mean Absolute Error :\", mean_absolute_error(y_true=y_test, y_pred=predictions))"
   ]
  },
  {
   "cell_type": "markdown",
   "id": "444211a0",
   "metadata": {},
   "source": [
    "#### What will be the predicted score if student studies for 9.25 hours ?"
   ]
  },
  {
   "cell_type": "code",
   "execution_count": 69,
   "id": "28084352",
   "metadata": {},
   "outputs": [
    {
     "name": "stdout",
     "output_type": "stream",
     "text": [
      "[93.89272889]\n"
     ]
    }
   ],
   "source": [
    "sample = [[9.25]]\n",
    "sample_predict = lin_reg.predict(sample)\n",
    "print(sample_predict)"
   ]
  },
  {
   "cell_type": "markdown",
   "id": "cd40f7f0",
   "metadata": {},
   "source": [
    "###### So if the student studies for 9.25 hours his/her score will be 93.89"
   ]
  },
  {
   "cell_type": "markdown",
   "id": "9611a432",
   "metadata": {},
   "source": [
    "#### Summary:\n",
    "    1. There are no null/missing values in our data.\n",
    "    2. There is a positive linear relationship between no of hours studied and percentage scores obtained.\n",
    "    3. Using Linear Regression we obtained model score of 0.9484 and our evalution scote on test data is 0.9367 which is \n",
    "       nearly similar to the model score so our model is not overfitting.\n",
    "    4. Also we can use other ML algorithms but in this case linear regression is working pretty good."
   ]
  },
  {
   "cell_type": "code",
   "execution_count": null,
   "id": "4587ecaf",
   "metadata": {},
   "outputs": [],
   "source": []
  }
 ],
 "metadata": {
  "kernelspec": {
   "display_name": "Python 3 (ipykernel)",
   "language": "python",
   "name": "python3"
  },
  "language_info": {
   "codemirror_mode": {
    "name": "ipython",
    "version": 3
   },
   "file_extension": ".py",
   "mimetype": "text/x-python",
   "name": "python",
   "nbconvert_exporter": "python",
   "pygments_lexer": "ipython3",
   "version": "3.9.7"
  }
 },
 "nbformat": 4,
 "nbformat_minor": 5
}
